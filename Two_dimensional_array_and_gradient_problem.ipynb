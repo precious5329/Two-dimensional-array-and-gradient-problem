{
  "nbformat": 4,
  "nbformat_minor": 0,
  "metadata": {
    "colab": {
      "provenance": []
    },
    "kernelspec": {
      "name": "python3",
      "display_name": "Python 3"
    },
    "language_info": {
      "name": "python"
    }
  },
  "cells": [
    {
      "cell_type": "markdown",
      "source": [
        "### [Problem 1] Linear function"
      ],
      "metadata": {
        "id": "7TJ6IyRP2CUx"
      }
    },
    {
      "cell_type": "code",
      "execution_count": 2,
      "metadata": {
        "colab": {
          "base_uri": "https://localhost:8080/"
        },
        "id": "zfz0B46I1-vz",
        "outputId": "ab08c59a-831c-4437-8e3d-94559682e1d5"
      },
      "outputs": [
        {
          "output_type": "stream",
          "name": "stdout",
          "text": [
            "[-50.  -49.9 -49.8 ...  49.8  49.9  50. ]\n",
            "[-24.   -23.95 -23.9  ...  25.9   25.95  26.  ]\n"
          ]
        },
        {
          "output_type": "execute_result",
          "data": {
            "text/plain": [
              "(1001,)"
            ]
          },
          "metadata": {},
          "execution_count": 2
        }
      ],
      "source": [
        "import numpy as np\n",
        "from matplotlib import pyplot as plt\n",
        "%matplotlib inline\n",
        "\n",
        "x_array = np.arange(-50, 50.1, 0.1)\n",
        "y_array = x_array/2 + 1\n",
        "\n",
        "print(x_array)\n",
        "print(y_array)\n",
        "\n",
        "x_array.shape"
      ]
    },
    {
      "cell_type": "markdown",
      "source": [
        "### [Problem 2] Array combination"
      ],
      "metadata": {
        "id": "KomFjQS63gRW"
      }
    },
    {
      "cell_type": "code",
      "source": [
        "xy_array = np.concatenate((x_array[:, np.newaxis], y_array[:, np.newaxis]), axis = 1)\n",
        "print(xy_array)\n",
        "xy_array.shape"
      ],
      "metadata": {
        "colab": {
          "base_uri": "https://localhost:8080/"
        },
        "id": "lvJU0ViW3sXM",
        "outputId": "b1909f00-5e17-4063-de2a-641e55a45848"
      },
      "execution_count": 5,
      "outputs": [
        {
          "output_type": "stream",
          "name": "stdout",
          "text": [
            "[[-50.   -24.  ]\n",
            " [-49.9  -23.95]\n",
            " [-49.8  -23.9 ]\n",
            " ...\n",
            " [ 49.8   25.9 ]\n",
            " [ 49.9   25.95]\n",
            " [ 50.    26.  ]]\n"
          ]
        },
        {
          "output_type": "execute_result",
          "data": {
            "text/plain": [
              "(1001, 2)"
            ]
          },
          "metadata": {},
          "execution_count": 5
        }
      ]
    },
    {
      "cell_type": "markdown",
      "source": [
        "### [Problem 3] Find the gradient"
      ],
      "metadata": {
        "id": "XevD3b9w4xkD"
      }
    },
    {
      "cell_type": "code",
      "source": [
        "gradient = (xy_array[1:, 1] - xy_array[:-1, 1])/(xy_array[1:,0] - xy_array[:-1, 0])\n",
        "print(gradient)"
      ],
      "metadata": {
        "colab": {
          "base_uri": "https://localhost:8080/"
        },
        "id": "OcrqOQeNM0fz",
        "outputId": "0f1ab687-4c57-4cf0-ad9a-9660fe3e90be"
      },
      "execution_count": 6,
      "outputs": [
        {
          "output_type": "stream",
          "name": "stdout",
          "text": [
            "[0.5 0.5 0.5 0.5 0.5 0.5 0.5 0.5 0.5 0.5 0.5 0.5 0.5 0.5 0.5 0.5 0.5 0.5\n",
            " 0.5 0.5 0.5 0.5 0.5 0.5 0.5 0.5 0.5 0.5 0.5 0.5 0.5 0.5 0.5 0.5 0.5 0.5\n",
            " 0.5 0.5 0.5 0.5 0.5 0.5 0.5 0.5 0.5 0.5 0.5 0.5 0.5 0.5 0.5 0.5 0.5 0.5\n",
            " 0.5 0.5 0.5 0.5 0.5 0.5 0.5 0.5 0.5 0.5 0.5 0.5 0.5 0.5 0.5 0.5 0.5 0.5\n",
            " 0.5 0.5 0.5 0.5 0.5 0.5 0.5 0.5 0.5 0.5 0.5 0.5 0.5 0.5 0.5 0.5 0.5 0.5\n",
            " 0.5 0.5 0.5 0.5 0.5 0.5 0.5 0.5 0.5 0.5 0.5 0.5 0.5 0.5 0.5 0.5 0.5 0.5\n",
            " 0.5 0.5 0.5 0.5 0.5 0.5 0.5 0.5 0.5 0.5 0.5 0.5 0.5 0.5 0.5 0.5 0.5 0.5\n",
            " 0.5 0.5 0.5 0.5 0.5 0.5 0.5 0.5 0.5 0.5 0.5 0.5 0.5 0.5 0.5 0.5 0.5 0.5\n",
            " 0.5 0.5 0.5 0.5 0.5 0.5 0.5 0.5 0.5 0.5 0.5 0.5 0.5 0.5 0.5 0.5 0.5 0.5\n",
            " 0.5 0.5 0.5 0.5 0.5 0.5 0.5 0.5 0.5 0.5 0.5 0.5 0.5 0.5 0.5 0.5 0.5 0.5\n",
            " 0.5 0.5 0.5 0.5 0.5 0.5 0.5 0.5 0.5 0.5 0.5 0.5 0.5 0.5 0.5 0.5 0.5 0.5\n",
            " 0.5 0.5 0.5 0.5 0.5 0.5 0.5 0.5 0.5 0.5 0.5 0.5 0.5 0.5 0.5 0.5 0.5 0.5\n",
            " 0.5 0.5 0.5 0.5 0.5 0.5 0.5 0.5 0.5 0.5 0.5 0.5 0.5 0.5 0.5 0.5 0.5 0.5\n",
            " 0.5 0.5 0.5 0.5 0.5 0.5 0.5 0.5 0.5 0.5 0.5 0.5 0.5 0.5 0.5 0.5 0.5 0.5\n",
            " 0.5 0.5 0.5 0.5 0.5 0.5 0.5 0.5 0.5 0.5 0.5 0.5 0.5 0.5 0.5 0.5 0.5 0.5\n",
            " 0.5 0.5 0.5 0.5 0.5 0.5 0.5 0.5 0.5 0.5 0.5 0.5 0.5 0.5 0.5 0.5 0.5 0.5\n",
            " 0.5 0.5 0.5 0.5 0.5 0.5 0.5 0.5 0.5 0.5 0.5 0.5 0.5 0.5 0.5 0.5 0.5 0.5\n",
            " 0.5 0.5 0.5 0.5 0.5 0.5 0.5 0.5 0.5 0.5 0.5 0.5 0.5 0.5 0.5 0.5 0.5 0.5\n",
            " 0.5 0.5 0.5 0.5 0.5 0.5 0.5 0.5 0.5 0.5 0.5 0.5 0.5 0.5 0.5 0.5 0.5 0.5\n",
            " 0.5 0.5 0.5 0.5 0.5 0.5 0.5 0.5 0.5 0.5 0.5 0.5 0.5 0.5 0.5 0.5 0.5 0.5\n",
            " 0.5 0.5 0.5 0.5 0.5 0.5 0.5 0.5 0.5 0.5 0.5 0.5 0.5 0.5 0.5 0.5 0.5 0.5\n",
            " 0.5 0.5 0.5 0.5 0.5 0.5 0.5 0.5 0.5 0.5 0.5 0.5 0.5 0.5 0.5 0.5 0.5 0.5\n",
            " 0.5 0.5 0.5 0.5 0.5 0.5 0.5 0.5 0.5 0.5 0.5 0.5 0.5 0.5 0.5 0.5 0.5 0.5\n",
            " 0.5 0.5 0.5 0.5 0.5 0.5 0.5 0.5 0.5 0.5 0.5 0.5 0.5 0.5 0.5 0.5 0.5 0.5\n",
            " 0.5 0.5 0.5 0.5 0.5 0.5 0.5 0.5 0.5 0.5 0.5 0.5 0.5 0.5 0.5 0.5 0.5 0.5\n",
            " 0.5 0.5 0.5 0.5 0.5 0.5 0.5 0.5 0.5 0.5 0.5 0.5 0.5 0.5 0.5 0.5 0.5 0.5\n",
            " 0.5 0.5 0.5 0.5 0.5 0.5 0.5 0.5 0.5 0.5 0.5 0.5 0.5 0.5 0.5 0.5 0.5 0.5\n",
            " 0.5 0.5 0.5 0.5 0.5 0.5 0.5 0.5 0.5 0.5 0.5 0.5 0.5 0.5 0.5 0.5 0.5 0.5\n",
            " 0.5 0.5 0.5 0.5 0.5 0.5 0.5 0.5 0.5 0.5 0.5 0.5 0.5 0.5 0.5 0.5 0.5 0.5\n",
            " 0.5 0.5 0.5 0.5 0.5 0.5 0.5 0.5 0.5 0.5 0.5 0.5 0.5 0.5 0.5 0.5 0.5 0.5\n",
            " 0.5 0.5 0.5 0.5 0.5 0.5 0.5 0.5 0.5 0.5 0.5 0.5 0.5 0.5 0.5 0.5 0.5 0.5\n",
            " 0.5 0.5 0.5 0.5 0.5 0.5 0.5 0.5 0.5 0.5 0.5 0.5 0.5 0.5 0.5 0.5 0.5 0.5\n",
            " 0.5 0.5 0.5 0.5 0.5 0.5 0.5 0.5 0.5 0.5 0.5 0.5 0.5 0.5 0.5 0.5 0.5 0.5\n",
            " 0.5 0.5 0.5 0.5 0.5 0.5 0.5 0.5 0.5 0.5 0.5 0.5 0.5 0.5 0.5 0.5 0.5 0.5\n",
            " 0.5 0.5 0.5 0.5 0.5 0.5 0.5 0.5 0.5 0.5 0.5 0.5 0.5 0.5 0.5 0.5 0.5 0.5\n",
            " 0.5 0.5 0.5 0.5 0.5 0.5 0.5 0.5 0.5 0.5 0.5 0.5 0.5 0.5 0.5 0.5 0.5 0.5\n",
            " 0.5 0.5 0.5 0.5 0.5 0.5 0.5 0.5 0.5 0.5 0.5 0.5 0.5 0.5 0.5 0.5 0.5 0.5\n",
            " 0.5 0.5 0.5 0.5 0.5 0.5 0.5 0.5 0.5 0.5 0.5 0.5 0.5 0.5 0.5 0.5 0.5 0.5\n",
            " 0.5 0.5 0.5 0.5 0.5 0.5 0.5 0.5 0.5 0.5 0.5 0.5 0.5 0.5 0.5 0.5 0.5 0.5\n",
            " 0.5 0.5 0.5 0.5 0.5 0.5 0.5 0.5 0.5 0.5 0.5 0.5 0.5 0.5 0.5 0.5 0.5 0.5\n",
            " 0.5 0.5 0.5 0.5 0.5 0.5 0.5 0.5 0.5 0.5 0.5 0.5 0.5 0.5 0.5 0.5 0.5 0.5\n",
            " 0.5 0.5 0.5 0.5 0.5 0.5 0.5 0.5 0.5 0.5 0.5 0.5 0.5 0.5 0.5 0.5 0.5 0.5\n",
            " 0.5 0.5 0.5 0.5 0.5 0.5 0.5 0.5 0.5 0.5 0.5 0.5 0.5 0.5 0.5 0.5 0.5 0.5\n",
            " 0.5 0.5 0.5 0.5 0.5 0.5 0.5 0.5 0.5 0.5 0.5 0.5 0.5 0.5 0.5 0.5 0.5 0.5\n",
            " 0.5 0.5 0.5 0.5 0.5 0.5 0.5 0.5 0.5 0.5 0.5 0.5 0.5 0.5 0.5 0.5 0.5 0.5\n",
            " 0.5 0.5 0.5 0.5 0.5 0.5 0.5 0.5 0.5 0.5 0.5 0.5 0.5 0.5 0.5 0.5 0.5 0.5\n",
            " 0.5 0.5 0.5 0.5 0.5 0.5 0.5 0.5 0.5 0.5 0.5 0.5 0.5 0.5 0.5 0.5 0.5 0.5\n",
            " 0.5 0.5 0.5 0.5 0.5 0.5 0.5 0.5 0.5 0.5 0.5 0.5 0.5 0.5 0.5 0.5 0.5 0.5\n",
            " 0.5 0.5 0.5 0.5 0.5 0.5 0.5 0.5 0.5 0.5 0.5 0.5 0.5 0.5 0.5 0.5 0.5 0.5\n",
            " 0.5 0.5 0.5 0.5 0.5 0.5 0.5 0.5 0.5 0.5 0.5 0.5 0.5 0.5 0.5 0.5 0.5 0.5\n",
            " 0.5 0.5 0.5 0.5 0.5 0.5 0.5 0.5 0.5 0.5 0.5 0.5 0.5 0.5 0.5 0.5 0.5 0.5\n",
            " 0.5 0.5 0.5 0.5 0.5 0.5 0.5 0.5 0.5 0.5 0.5 0.5 0.5 0.5 0.5 0.5 0.5 0.5\n",
            " 0.5 0.5 0.5 0.5 0.5 0.5 0.5 0.5 0.5 0.5 0.5 0.5 0.5 0.5 0.5 0.5 0.5 0.5\n",
            " 0.5 0.5 0.5 0.5 0.5 0.5 0.5 0.5 0.5 0.5 0.5 0.5 0.5 0.5 0.5 0.5 0.5 0.5\n",
            " 0.5 0.5 0.5 0.5 0.5 0.5 0.5 0.5 0.5 0.5 0.5 0.5 0.5 0.5 0.5 0.5 0.5 0.5\n",
            " 0.5 0.5 0.5 0.5 0.5 0.5 0.5 0.5 0.5 0.5]\n"
          ]
        }
      ]
    },
    {
      "cell_type": "code",
      "source": [
        "x = x_array\n",
        "y = y_array\n",
        "gradient = np.array(y[1:] - y[:-1])/(x[1:] - x[:-1])\n",
        "\n",
        "print(gradient)\n",
        "print(gradient.shape)"
      ],
      "metadata": {
        "colab": {
          "base_uri": "https://localhost:8080/"
        },
        "id": "0IwM4TPI42lP",
        "outputId": "eb6ed222-6a8b-4d2a-e9ae-7ba8b39ec5ed"
      },
      "execution_count": 7,
      "outputs": [
        {
          "output_type": "stream",
          "name": "stdout",
          "text": [
            "[0.5 0.5 0.5 0.5 0.5 0.5 0.5 0.5 0.5 0.5 0.5 0.5 0.5 0.5 0.5 0.5 0.5 0.5\n",
            " 0.5 0.5 0.5 0.5 0.5 0.5 0.5 0.5 0.5 0.5 0.5 0.5 0.5 0.5 0.5 0.5 0.5 0.5\n",
            " 0.5 0.5 0.5 0.5 0.5 0.5 0.5 0.5 0.5 0.5 0.5 0.5 0.5 0.5 0.5 0.5 0.5 0.5\n",
            " 0.5 0.5 0.5 0.5 0.5 0.5 0.5 0.5 0.5 0.5 0.5 0.5 0.5 0.5 0.5 0.5 0.5 0.5\n",
            " 0.5 0.5 0.5 0.5 0.5 0.5 0.5 0.5 0.5 0.5 0.5 0.5 0.5 0.5 0.5 0.5 0.5 0.5\n",
            " 0.5 0.5 0.5 0.5 0.5 0.5 0.5 0.5 0.5 0.5 0.5 0.5 0.5 0.5 0.5 0.5 0.5 0.5\n",
            " 0.5 0.5 0.5 0.5 0.5 0.5 0.5 0.5 0.5 0.5 0.5 0.5 0.5 0.5 0.5 0.5 0.5 0.5\n",
            " 0.5 0.5 0.5 0.5 0.5 0.5 0.5 0.5 0.5 0.5 0.5 0.5 0.5 0.5 0.5 0.5 0.5 0.5\n",
            " 0.5 0.5 0.5 0.5 0.5 0.5 0.5 0.5 0.5 0.5 0.5 0.5 0.5 0.5 0.5 0.5 0.5 0.5\n",
            " 0.5 0.5 0.5 0.5 0.5 0.5 0.5 0.5 0.5 0.5 0.5 0.5 0.5 0.5 0.5 0.5 0.5 0.5\n",
            " 0.5 0.5 0.5 0.5 0.5 0.5 0.5 0.5 0.5 0.5 0.5 0.5 0.5 0.5 0.5 0.5 0.5 0.5\n",
            " 0.5 0.5 0.5 0.5 0.5 0.5 0.5 0.5 0.5 0.5 0.5 0.5 0.5 0.5 0.5 0.5 0.5 0.5\n",
            " 0.5 0.5 0.5 0.5 0.5 0.5 0.5 0.5 0.5 0.5 0.5 0.5 0.5 0.5 0.5 0.5 0.5 0.5\n",
            " 0.5 0.5 0.5 0.5 0.5 0.5 0.5 0.5 0.5 0.5 0.5 0.5 0.5 0.5 0.5 0.5 0.5 0.5\n",
            " 0.5 0.5 0.5 0.5 0.5 0.5 0.5 0.5 0.5 0.5 0.5 0.5 0.5 0.5 0.5 0.5 0.5 0.5\n",
            " 0.5 0.5 0.5 0.5 0.5 0.5 0.5 0.5 0.5 0.5 0.5 0.5 0.5 0.5 0.5 0.5 0.5 0.5\n",
            " 0.5 0.5 0.5 0.5 0.5 0.5 0.5 0.5 0.5 0.5 0.5 0.5 0.5 0.5 0.5 0.5 0.5 0.5\n",
            " 0.5 0.5 0.5 0.5 0.5 0.5 0.5 0.5 0.5 0.5 0.5 0.5 0.5 0.5 0.5 0.5 0.5 0.5\n",
            " 0.5 0.5 0.5 0.5 0.5 0.5 0.5 0.5 0.5 0.5 0.5 0.5 0.5 0.5 0.5 0.5 0.5 0.5\n",
            " 0.5 0.5 0.5 0.5 0.5 0.5 0.5 0.5 0.5 0.5 0.5 0.5 0.5 0.5 0.5 0.5 0.5 0.5\n",
            " 0.5 0.5 0.5 0.5 0.5 0.5 0.5 0.5 0.5 0.5 0.5 0.5 0.5 0.5 0.5 0.5 0.5 0.5\n",
            " 0.5 0.5 0.5 0.5 0.5 0.5 0.5 0.5 0.5 0.5 0.5 0.5 0.5 0.5 0.5 0.5 0.5 0.5\n",
            " 0.5 0.5 0.5 0.5 0.5 0.5 0.5 0.5 0.5 0.5 0.5 0.5 0.5 0.5 0.5 0.5 0.5 0.5\n",
            " 0.5 0.5 0.5 0.5 0.5 0.5 0.5 0.5 0.5 0.5 0.5 0.5 0.5 0.5 0.5 0.5 0.5 0.5\n",
            " 0.5 0.5 0.5 0.5 0.5 0.5 0.5 0.5 0.5 0.5 0.5 0.5 0.5 0.5 0.5 0.5 0.5 0.5\n",
            " 0.5 0.5 0.5 0.5 0.5 0.5 0.5 0.5 0.5 0.5 0.5 0.5 0.5 0.5 0.5 0.5 0.5 0.5\n",
            " 0.5 0.5 0.5 0.5 0.5 0.5 0.5 0.5 0.5 0.5 0.5 0.5 0.5 0.5 0.5 0.5 0.5 0.5\n",
            " 0.5 0.5 0.5 0.5 0.5 0.5 0.5 0.5 0.5 0.5 0.5 0.5 0.5 0.5 0.5 0.5 0.5 0.5\n",
            " 0.5 0.5 0.5 0.5 0.5 0.5 0.5 0.5 0.5 0.5 0.5 0.5 0.5 0.5 0.5 0.5 0.5 0.5\n",
            " 0.5 0.5 0.5 0.5 0.5 0.5 0.5 0.5 0.5 0.5 0.5 0.5 0.5 0.5 0.5 0.5 0.5 0.5\n",
            " 0.5 0.5 0.5 0.5 0.5 0.5 0.5 0.5 0.5 0.5 0.5 0.5 0.5 0.5 0.5 0.5 0.5 0.5\n",
            " 0.5 0.5 0.5 0.5 0.5 0.5 0.5 0.5 0.5 0.5 0.5 0.5 0.5 0.5 0.5 0.5 0.5 0.5\n",
            " 0.5 0.5 0.5 0.5 0.5 0.5 0.5 0.5 0.5 0.5 0.5 0.5 0.5 0.5 0.5 0.5 0.5 0.5\n",
            " 0.5 0.5 0.5 0.5 0.5 0.5 0.5 0.5 0.5 0.5 0.5 0.5 0.5 0.5 0.5 0.5 0.5 0.5\n",
            " 0.5 0.5 0.5 0.5 0.5 0.5 0.5 0.5 0.5 0.5 0.5 0.5 0.5 0.5 0.5 0.5 0.5 0.5\n",
            " 0.5 0.5 0.5 0.5 0.5 0.5 0.5 0.5 0.5 0.5 0.5 0.5 0.5 0.5 0.5 0.5 0.5 0.5\n",
            " 0.5 0.5 0.5 0.5 0.5 0.5 0.5 0.5 0.5 0.5 0.5 0.5 0.5 0.5 0.5 0.5 0.5 0.5\n",
            " 0.5 0.5 0.5 0.5 0.5 0.5 0.5 0.5 0.5 0.5 0.5 0.5 0.5 0.5 0.5 0.5 0.5 0.5\n",
            " 0.5 0.5 0.5 0.5 0.5 0.5 0.5 0.5 0.5 0.5 0.5 0.5 0.5 0.5 0.5 0.5 0.5 0.5\n",
            " 0.5 0.5 0.5 0.5 0.5 0.5 0.5 0.5 0.5 0.5 0.5 0.5 0.5 0.5 0.5 0.5 0.5 0.5\n",
            " 0.5 0.5 0.5 0.5 0.5 0.5 0.5 0.5 0.5 0.5 0.5 0.5 0.5 0.5 0.5 0.5 0.5 0.5\n",
            " 0.5 0.5 0.5 0.5 0.5 0.5 0.5 0.5 0.5 0.5 0.5 0.5 0.5 0.5 0.5 0.5 0.5 0.5\n",
            " 0.5 0.5 0.5 0.5 0.5 0.5 0.5 0.5 0.5 0.5 0.5 0.5 0.5 0.5 0.5 0.5 0.5 0.5\n",
            " 0.5 0.5 0.5 0.5 0.5 0.5 0.5 0.5 0.5 0.5 0.5 0.5 0.5 0.5 0.5 0.5 0.5 0.5\n",
            " 0.5 0.5 0.5 0.5 0.5 0.5 0.5 0.5 0.5 0.5 0.5 0.5 0.5 0.5 0.5 0.5 0.5 0.5\n",
            " 0.5 0.5 0.5 0.5 0.5 0.5 0.5 0.5 0.5 0.5 0.5 0.5 0.5 0.5 0.5 0.5 0.5 0.5\n",
            " 0.5 0.5 0.5 0.5 0.5 0.5 0.5 0.5 0.5 0.5 0.5 0.5 0.5 0.5 0.5 0.5 0.5 0.5\n",
            " 0.5 0.5 0.5 0.5 0.5 0.5 0.5 0.5 0.5 0.5 0.5 0.5 0.5 0.5 0.5 0.5 0.5 0.5\n",
            " 0.5 0.5 0.5 0.5 0.5 0.5 0.5 0.5 0.5 0.5 0.5 0.5 0.5 0.5 0.5 0.5 0.5 0.5\n",
            " 0.5 0.5 0.5 0.5 0.5 0.5 0.5 0.5 0.5 0.5 0.5 0.5 0.5 0.5 0.5 0.5 0.5 0.5\n",
            " 0.5 0.5 0.5 0.5 0.5 0.5 0.5 0.5 0.5 0.5 0.5 0.5 0.5 0.5 0.5 0.5 0.5 0.5\n",
            " 0.5 0.5 0.5 0.5 0.5 0.5 0.5 0.5 0.5 0.5 0.5 0.5 0.5 0.5 0.5 0.5 0.5 0.5\n",
            " 0.5 0.5 0.5 0.5 0.5 0.5 0.5 0.5 0.5 0.5 0.5 0.5 0.5 0.5 0.5 0.5 0.5 0.5\n",
            " 0.5 0.5 0.5 0.5 0.5 0.5 0.5 0.5 0.5 0.5 0.5 0.5 0.5 0.5 0.5 0.5 0.5 0.5\n",
            " 0.5 0.5 0.5 0.5 0.5 0.5 0.5 0.5 0.5 0.5 0.5 0.5 0.5 0.5 0.5 0.5 0.5 0.5\n",
            " 0.5 0.5 0.5 0.5 0.5 0.5 0.5 0.5 0.5 0.5]\n",
            "(1000,)\n"
          ]
        }
      ]
    },
    {
      "cell_type": "markdown",
      "source": [
        "### [Problem 4] Draw a graph"
      ],
      "metadata": {
        "id": "C6P_g-xA7dNI"
      }
    },
    {
      "cell_type": "code",
      "source": [
        "plt.title(\"y=x/2 + 1\")\n",
        "plt.xlabel(\"X\")\n",
        "plt.ylabel(\"Y\")\n",
        "plt.plot(xy_array[:, 0], xy_array[:, 1])\n",
        "plt.show()"
      ],
      "metadata": {
        "colab": {
          "base_uri": "https://localhost:8080/",
          "height": 472
        },
        "id": "3vjSkUMa8u63",
        "outputId": "777d7a0a-1837-4581-9fdc-ef5027055d44"
      },
      "execution_count": 8,
      "outputs": [
        {
          "output_type": "display_data",
          "data": {
            "text/plain": [
              "<Figure size 640x480 with 1 Axes>"
            ],
            "image/png": "[encoded data removed]"
          },
          "metadata": {}
        }
      ]
    },
    {
      "cell_type": "code",
      "source": [
        "plt.title(\"Gradient of y=x/2 + 1\")\n",
        "plt.xlabel(\"X\")\n",
        "plt.ylabel(\"gradient\")\n",
        "plt.plot(xy_array[:-1, 0], gradient)\n",
        "plt.show()"
      ],
      "metadata": {
        "colab": {
          "base_uri": "https://localhost:8080/",
          "height": 472
        },
        "id": "5XDSgEmA_CPu",
        "outputId": "89743d54-5d15-4f2e-daa3-5d439ab40cc4"
      },
      "execution_count": 9,
      "outputs": [
        {
          "output_type": "display_data",
          "data": {
            "text/plain": [
              "<Figure size 640x480 with 1 Axes>"
            ],
            "image/png": "[encoded data removed]"
          },
          "metadata": {}
        }
      ]
    },
    {
      "cell_type": "markdown",
      "source": [
        "### [Problem 5] Python functionalization"
      ],
      "metadata": {
        "id": "AR3J0Hy5-e0A"
      }
    },
    {
      "cell_type": "code",
      "source": [
        "def compute_gradient(function, x_range = (-50, 50.1, 0.1)):\n",
        "    x_array = np.arange(*x_range)\n",
        "    y_array = function(x_array)\n",
        "\n",
        "    xy_array = np.concatenate((x_array[:, np.newaxis], y_array[:, np.newaxis]), axis = 1)\n",
        "    gradient = (xy_array[1:, 1] - xy_array[:-1, 1])/(xy_array[1:,0] - xy_array[:-1, 0])\n",
        "    return xy_array, gradient\n",
        "\n",
        "def function1(x_array):\n",
        "    y_array = x_array**2\n",
        "    return y_array\n",
        "\n",
        "xy_array1, gradient1 = compute_gradient(function1)\n",
        "print(compute_gradient(function1))"
      ],
      "metadata": {
        "colab": {
          "base_uri": "https://localhost:8080/"
        },
        "id": "7rWZxVNA-ml_",
        "outputId": "8b22ebd4-249d-49db-f28d-17e057502646"
      },
      "execution_count": 10,
      "outputs": [
        {
          "output_type": "stream",
          "name": "stdout",
          "text": [
            "(array([[ -50.  , 2500.  ],\n",
            "       [ -49.9 , 2490.01],\n",
            "       [ -49.8 , 2480.04],\n",
            "       ...,\n",
            "       [  49.8 , 2480.04],\n",
            "       [  49.9 , 2490.01],\n",
            "       [  50.  , 2500.  ]]), array([-99.9, -99.7, -99.5, -99.3, -99.1, -98.9, -98.7, -98.5, -98.3,\n",
            "       -98.1, -97.9, -97.7, -97.5, -97.3, -97.1, -96.9, -96.7, -96.5,\n",
            "       -96.3, -96.1, -95.9, -95.7, -95.5, -95.3, -95.1, -94.9, -94.7,\n",
            "       -94.5, -94.3, -94.1, -93.9, -93.7, -93.5, -93.3, -93.1, -92.9,\n",
            "       -92.7, -92.5, -92.3, -92.1, -91.9, -91.7, -91.5, -91.3, -91.1,\n",
            "       -90.9, -90.7, -90.5, -90.3, -90.1, -89.9, -89.7, -89.5, -89.3,\n",
            "       -89.1, -88.9, -88.7, -88.5, -88.3, -88.1, -87.9, -87.7, -87.5,\n",
            "       -87.3, -87.1, -86.9, -86.7, -86.5, -86.3, -86.1, -85.9, -85.7,\n",
            "       -85.5, -85.3, -85.1, -84.9, -84.7, -84.5, -84.3, -84.1, -83.9,\n",
            "       -83.7, -83.5, -83.3, -83.1, -82.9, -82.7, -82.5, -82.3, -82.1,\n",
            "       -81.9, -81.7, -81.5, -81.3, -81.1, -80.9, -80.7, -80.5, -80.3,\n",
            "       -80.1, -79.9, -79.7, -79.5, -79.3, -79.1, -78.9, -78.7, -78.5,\n",
            "       -78.3, -78.1, -77.9, -77.7, -77.5, -77.3, -77.1, -76.9, -76.7,\n",
            "       -76.5, -76.3, -76.1, -75.9, -75.7, -75.5, -75.3, -75.1, -74.9,\n",
            "       -74.7, -74.5, -74.3, -74.1, -73.9, -73.7, -73.5, -73.3, -73.1,\n",
            "       -72.9, -72.7, -72.5, -72.3, -72.1, -71.9, -71.7, -71.5, -71.3,\n",
            "       -71.1, -70.9, -70.7, -70.5, -70.3, -70.1, -69.9, -69.7, -69.5,\n",
            "       -69.3, -69.1, -68.9, -68.7, -68.5, -68.3, -68.1, -67.9, -67.7,\n",
            "       -67.5, -67.3, -67.1, -66.9, -66.7, -66.5, -66.3, -66.1, -65.9,\n",
            "       -65.7, -65.5, -65.3, -65.1, -64.9, -64.7, -64.5, -64.3, -64.1,\n",
            "       -63.9, -63.7, -63.5, -63.3, -63.1, -62.9, -62.7, -62.5, -62.3,\n",
            "       -62.1, -61.9, -61.7, -61.5, -61.3, -61.1, -60.9, -60.7, -60.5,\n",
            "       -60.3, -60.1, -59.9, -59.7, -59.5, -59.3, -59.1, -58.9, -58.7,\n",
            "       -58.5, -58.3, -58.1, -57.9, -57.7, -57.5, -57.3, -57.1, -56.9,\n",
            "       -56.7, -56.5, -56.3, -56.1, -55.9, -55.7, -55.5, -55.3, -55.1,\n",
            "       -54.9, -54.7, -54.5, -54.3, -54.1, -53.9, -53.7, -53.5, -53.3,\n",
            "       -53.1, -52.9, -52.7, -52.5, -52.3, -52.1, -51.9, -51.7, -51.5,\n",
            "       -51.3, -51.1, -50.9, -50.7, -50.5, -50.3, -50.1, -49.9, -49.7,\n",
            "       -49.5, -49.3, -49.1, -48.9, -48.7, -48.5, -48.3, -48.1, -47.9,\n",
            "       -47.7, -47.5, -47.3, -47.1, -46.9, -46.7, -46.5, -46.3, -46.1,\n",
            "       -45.9, -45.7, -45.5, -45.3, -45.1, -44.9, -44.7, -44.5, -44.3,\n",
            "       -44.1, -43.9, -43.7, -43.5, -43.3, -43.1, -42.9, -42.7, -42.5,\n",
            "       -42.3, -42.1, -41.9, -41.7, -41.5, -41.3, -41.1, -40.9, -40.7,\n",
            "       -40.5, -40.3, -40.1, -39.9, -39.7, -39.5, -39.3, -39.1, -38.9,\n",
            "       -38.7, -38.5, -38.3, -38.1, -37.9, -37.7, -37.5, -37.3, -37.1,\n",
            "       -36.9, -36.7, -36.5, -36.3, -36.1, -35.9, -35.7, -35.5, -35.3,\n",
            "       -35.1, -34.9, -34.7, -34.5, -34.3, -34.1, -33.9, -33.7, -33.5,\n",
            "       -33.3, -33.1, -32.9, -32.7, -32.5, -32.3, -32.1, -31.9, -31.7,\n",
            "       -31.5, -31.3, -31.1, -30.9, -30.7, -30.5, -30.3, -30.1, -29.9,\n",
            "       -29.7, -29.5, -29.3, -29.1, -28.9, -28.7, -28.5, -28.3, -28.1,\n",
            "       -27.9, -27.7, -27.5, -27.3, -27.1, -26.9, -26.7, -26.5, -26.3,\n",
            "       -26.1, -25.9, -25.7, -25.5, -25.3, -25.1, -24.9, -24.7, -24.5,\n",
            "       -24.3, -24.1, -23.9, -23.7, -23.5, -23.3, -23.1, -22.9, -22.7,\n",
            "       -22.5, -22.3, -22.1, -21.9, -21.7, -21.5, -21.3, -21.1, -20.9,\n",
            "       -20.7, -20.5, -20.3, -20.1, -19.9, -19.7, -19.5, -19.3, -19.1,\n",
            "       -18.9, -18.7, -18.5, -18.3, -18.1, -17.9, -17.7, -17.5, -17.3,\n",
            "       -17.1, -16.9, -16.7, -16.5, -16.3, -16.1, -15.9, -15.7, -15.5,\n",
            "       -15.3, -15.1, -14.9, -14.7, -14.5, -14.3, -14.1, -13.9, -13.7,\n",
            "       -13.5, -13.3, -13.1, -12.9, -12.7, -12.5, -12.3, -12.1, -11.9,\n",
            "       -11.7, -11.5, -11.3, -11.1, -10.9, -10.7, -10.5, -10.3, -10.1,\n",
            "        -9.9,  -9.7,  -9.5,  -9.3,  -9.1,  -8.9,  -8.7,  -8.5,  -8.3,\n",
            "        -8.1,  -7.9,  -7.7,  -7.5,  -7.3,  -7.1,  -6.9,  -6.7,  -6.5,\n",
            "        -6.3,  -6.1,  -5.9,  -5.7,  -5.5,  -5.3,  -5.1,  -4.9,  -4.7,\n",
            "        -4.5,  -4.3,  -4.1,  -3.9,  -3.7,  -3.5,  -3.3,  -3.1,  -2.9,\n",
            "        -2.7,  -2.5,  -2.3,  -2.1,  -1.9,  -1.7,  -1.5,  -1.3,  -1.1,\n",
            "        -0.9,  -0.7,  -0.5,  -0.3,  -0.1,   0.1,   0.3,   0.5,   0.7,\n",
            "         0.9,   1.1,   1.3,   1.5,   1.7,   1.9,   2.1,   2.3,   2.5,\n",
            "         2.7,   2.9,   3.1,   3.3,   3.5,   3.7,   3.9,   4.1,   4.3,\n",
            "         4.5,   4.7,   4.9,   5.1,   5.3,   5.5,   5.7,   5.9,   6.1,\n",
            "         6.3,   6.5,   6.7,   6.9,   7.1,   7.3,   7.5,   7.7,   7.9,\n",
            "         8.1,   8.3,   8.5,   8.7,   8.9,   9.1,   9.3,   9.5,   9.7,\n",
            "         9.9,  10.1,  10.3,  10.5,  10.7,  10.9,  11.1,  11.3,  11.5,\n",
            "        11.7,  11.9,  12.1,  12.3,  12.5,  12.7,  12.9,  13.1,  13.3,\n",
            "        13.5,  13.7,  13.9,  14.1,  14.3,  14.5,  14.7,  14.9,  15.1,\n",
            "        15.3,  15.5,  15.7,  15.9,  16.1,  16.3,  16.5,  16.7,  16.9,\n",
            "        17.1,  17.3,  17.5,  17.7,  17.9,  18.1,  18.3,  18.5,  18.7,\n",
            "        18.9,  19.1,  19.3,  19.5,  19.7,  19.9,  20.1,  20.3,  20.5,\n",
            "        20.7,  20.9,  21.1,  21.3,  21.5,  21.7,  21.9,  22.1,  22.3,\n",
            "        22.5,  22.7,  22.9,  23.1,  23.3,  23.5,  23.7,  23.9,  24.1,\n",
            "        24.3,  24.5,  24.7,  24.9,  25.1,  25.3,  25.5,  25.7,  25.9,\n",
            "        26.1,  26.3,  26.5,  26.7,  26.9,  27.1,  27.3,  27.5,  27.7,\n",
            "        27.9,  28.1,  28.3,  28.5,  28.7,  28.9,  29.1,  29.3,  29.5,\n",
            "        29.7,  29.9,  30.1,  30.3,  30.5,  30.7,  30.9,  31.1,  31.3,\n",
            "        31.5,  31.7,  31.9,  32.1,  32.3,  32.5,  32.7,  32.9,  33.1,\n",
            "        33.3,  33.5,  33.7,  33.9,  34.1,  34.3,  34.5,  34.7,  34.9,\n",
            "        35.1,  35.3,  35.5,  35.7,  35.9,  36.1,  36.3,  36.5,  36.7,\n",
            "        36.9,  37.1,  37.3,  37.5,  37.7,  37.9,  38.1,  38.3,  38.5,\n",
            "        38.7,  38.9,  39.1,  39.3,  39.5,  39.7,  39.9,  40.1,  40.3,\n",
            "        40.5,  40.7,  40.9,  41.1,  41.3,  41.5,  41.7,  41.9,  42.1,\n",
            "        42.3,  42.5,  42.7,  42.9,  43.1,  43.3,  43.5,  43.7,  43.9,\n",
            "        44.1,  44.3,  44.5,  44.7,  44.9,  45.1,  45.3,  45.5,  45.7,\n",
            "        45.9,  46.1,  46.3,  46.5,  46.7,  46.9,  47.1,  47.3,  47.5,\n",
            "        47.7,  47.9,  48.1,  48.3,  48.5,  48.7,  48.9,  49.1,  49.3,\n",
            "        49.5,  49.7,  49.9,  50.1,  50.3,  50.5,  50.7,  50.9,  51.1,\n",
            "        51.3,  51.5,  51.7,  51.9,  52.1,  52.3,  52.5,  52.7,  52.9,\n",
            "        53.1,  53.3,  53.5,  53.7,  53.9,  54.1,  54.3,  54.5,  54.7,\n",
            "        54.9,  55.1,  55.3,  55.5,  55.7,  55.9,  56.1,  56.3,  56.5,\n",
            "        56.7,  56.9,  57.1,  57.3,  57.5,  57.7,  57.9,  58.1,  58.3,\n",
            "        58.5,  58.7,  58.9,  59.1,  59.3,  59.5,  59.7,  59.9,  60.1,\n",
            "        60.3,  60.5,  60.7,  60.9,  61.1,  61.3,  61.5,  61.7,  61.9,\n",
            "        62.1,  62.3,  62.5,  62.7,  62.9,  63.1,  63.3,  63.5,  63.7,\n",
            "        63.9,  64.1,  64.3,  64.5,  64.7,  64.9,  65.1,  65.3,  65.5,\n",
            "        65.7,  65.9,  66.1,  66.3,  66.5,  66.7,  66.9,  67.1,  67.3,\n",
            "        67.5,  67.7,  67.9,  68.1,  68.3,  68.5,  68.7,  68.9,  69.1,\n",
            "        69.3,  69.5,  69.7,  69.9,  70.1,  70.3,  70.5,  70.7,  70.9,\n",
            "        71.1,  71.3,  71.5,  71.7,  71.9,  72.1,  72.3,  72.5,  72.7,\n",
            "        72.9,  73.1,  73.3,  73.5,  73.7,  73.9,  74.1,  74.3,  74.5,\n",
            "        74.7,  74.9,  75.1,  75.3,  75.5,  75.7,  75.9,  76.1,  76.3,\n",
            "        76.5,  76.7,  76.9,  77.1,  77.3,  77.5,  77.7,  77.9,  78.1,\n",
            "        78.3,  78.5,  78.7,  78.9,  79.1,  79.3,  79.5,  79.7,  79.9,\n",
            "        80.1,  80.3,  80.5,  80.7,  80.9,  81.1,  81.3,  81.5,  81.7,\n",
            "        81.9,  82.1,  82.3,  82.5,  82.7,  82.9,  83.1,  83.3,  83.5,\n",
            "        83.7,  83.9,  84.1,  84.3,  84.5,  84.7,  84.9,  85.1,  85.3,\n",
            "        85.5,  85.7,  85.9,  86.1,  86.3,  86.5,  86.7,  86.9,  87.1,\n",
            "        87.3,  87.5,  87.7,  87.9,  88.1,  88.3,  88.5,  88.7,  88.9,\n",
            "        89.1,  89.3,  89.5,  89.7,  89.9,  90.1,  90.3,  90.5,  90.7,\n",
            "        90.9,  91.1,  91.3,  91.5,  91.7,  91.9,  92.1,  92.3,  92.5,\n",
            "        92.7,  92.9,  93.1,  93.3,  93.5,  93.7,  93.9,  94.1,  94.3,\n",
            "        94.5,  94.7,  94.9,  95.1,  95.3,  95.5,  95.7,  95.9,  96.1,\n",
            "        96.3,  96.5,  96.7,  96.9,  97.1,  97.3,  97.5,  97.7,  97.9,\n",
            "        98.1,  98.3,  98.5,  98.7,  98.9,  99.1,  99.3,  99.5,  99.7,\n",
            "        99.9]))\n"
          ]
        }
      ]
    },
    {
      "cell_type": "code",
      "source": [
        "plt.title(\"y=x**2\")\n",
        "plt.xlabel(\"X\")\n",
        "plt.ylabel(\"Y\")\n",
        "plt.plot(xy_array1[:, 0], xy_array1[:, 1])\n",
        "plt.show()\n",
        "\n",
        "plt.title(\"Gradient of y=**2\")\n",
        "plt.xlabel(\"X\")\n",
        "plt.ylabel(\"gradient\")\n",
        "plt.plot(xy_array1[:-1, 0], gradient1)\n",
        "plt.show()"
      ],
      "metadata": {
        "colab": {
          "base_uri": "https://localhost:8080/",
          "height": 927
        },
        "id": "R3ko016tC9yb",
        "outputId": "af220815-aef7-45e5-ce20-367524cfec56"
      },
      "execution_count": 12,
      "outputs": [
        {
          "output_type": "display_data",
          "data": {
            "text/plain": [
              "<Figure size 640x480 with 1 Axes>"
            ],
            "image/png": "[encoded data removed]"
          },
          "metadata": {}
        },
        {
          "output_type": "display_data",
          "data": {
            "text/plain": [
              "<Figure size 640x480 with 1 Axes>"
            ],
            "image/png": "[encoded data removed]"
          },
          "metadata": {}
        }
      ]
    },
    {
      "cell_type": "code",
      "source": [
        "def compute_gradient(function, x_range = (-50, 50.1, 0.1)):\n",
        "    x_array = np.arange(*x_range)\n",
        "    y_array = function(x_array)\n",
        "\n",
        "    xy_array = np.concatenate((x_array[:, np.newaxis], y_array[:, np.newaxis]), axis = 1)\n",
        "    gradient = (xy_array[1:, 1] - xy_array[:-1, 1])/(xy_array[1:,0] - xy_array[:-1, 0])\n",
        "    return xy_array, gradient\n",
        "\n",
        "def function2(x_array):\n",
        "    y_array = 2*x_array**2 + 2**x_array\n",
        "    return 2*x_array**2 + 2**x_array\n",
        "\n",
        "xy_array2, gradient2 = compute_gradient(function2)\n",
        "print(compute_gradient(function2))"
      ],
      "metadata": {
        "colab": {
          "base_uri": "https://localhost:8080/"
        },
        "id": "62CKrDGxEUeV",
        "outputId": "47bba0f3-76eb-4c84-d866-19b1464581d5"
      },
      "execution_count": 13,
      "outputs": [
        {
          "output_type": "stream",
          "name": "stdout",
          "text": [
            "(array([[-5.00000000e+01,  5.00000000e+03],\n",
            "       [-4.99000000e+01,  4.98002000e+03],\n",
            "       [-4.98000000e+01,  4.96008000e+03],\n",
            "       ...,\n",
            "       [ 4.98000000e+01,  9.80152798e+14],\n",
            "       [ 4.99000000e+01,  1.05050176e+15],\n",
            "       [ 5.00000000e+01,  1.12589991e+15]]), array([-1.99800000e+02, -1.99400000e+02, -1.99000000e+02, -1.98600000e+02,\n",
            "       -1.98200000e+02, -1.97800000e+02, -1.97400000e+02, -1.97000000e+02,\n",
            "       -1.96600000e+02, -1.96200000e+02, -1.95800000e+02, -1.95400000e+02,\n",
            "       -1.95000000e+02, -1.94600000e+02, -1.94200000e+02, -1.93800000e+02,\n",
            "       -1.93400000e+02, -1.93000000e+02, -1.92600000e+02, -1.92200000e+02,\n",
            "       -1.91800000e+02, -1.91400000e+02, -1.91000000e+02, -1.90600000e+02,\n",
            "       -1.90200000e+02, -1.89800000e+02, -1.89400000e+02, -1.89000000e+02,\n",
            "       -1.88600000e+02, -1.88200000e+02, -1.87800000e+02, -1.87400000e+02,\n",
            "       -1.87000000e+02, -1.86600000e+02, -1.86200000e+02, -1.85800000e+02,\n",
            "       -1.85400000e+02, -1.85000000e+02, -1.84600000e+02, -1.84200000e+02,\n",
            "       -1.83800000e+02, -1.83400000e+02, -1.83000000e+02, -1.82600000e+02,\n",
            "       -1.82200000e+02, -1.81800000e+02, -1.81400000e+02, -1.81000000e+02,\n",
            "       -1.80600000e+02, -1.80200000e+02, -1.79800000e+02, -1.79400000e+02,\n",
            "       -1.79000000e+02, -1.78600000e+02, -1.78200000e+02, -1.77800000e+02,\n",
            "       -1.77400000e+02, -1.77000000e+02, -1.76600000e+02, -1.76200000e+02,\n",
            "       -1.75800000e+02, -1.75400000e+02, -1.75000000e+02, -1.74600000e+02,\n",
            "       -1.74200000e+02, -1.73800000e+02, -1.73400000e+02, -1.73000000e+02,\n",
            "       -1.72600000e+02, -1.72200000e+02, -1.71800000e+02, -1.71400000e+02,\n",
            "       -1.71000000e+02, -1.70600000e+02, -1.70200000e+02, -1.69800000e+02,\n",
            "       -1.69400000e+02, -1.69000000e+02, -1.68600000e+02, -1.68200000e+02,\n",
            "       -1.67800000e+02, -1.67400000e+02, -1.67000000e+02, -1.66600000e+02,\n",
            "       -1.66200000e+02, -1.65800000e+02, -1.65400000e+02, -1.65000000e+02,\n",
            "       -1.64600000e+02, -1.64200000e+02, -1.63800000e+02, -1.63400000e+02,\n",
            "       -1.63000000e+02, -1.62600000e+02, -1.62200000e+02, -1.61800000e+02,\n",
            "       -1.61400000e+02, -1.61000000e+02, -1.60600000e+02, -1.60200000e+02,\n",
            "       -1.59800000e+02, -1.59400000e+02, -1.59000000e+02, -1.58600000e+02,\n",
            "       -1.58200000e+02, -1.57800000e+02, -1.57400000e+02, -1.57000000e+02,\n",
            "       -1.56600000e+02, -1.56200000e+02, -1.55800000e+02, -1.55400000e+02,\n",
            "       -1.55000000e+02, -1.54600000e+02, -1.54200000e+02, -1.53800000e+02,\n",
            "       -1.53400000e+02, -1.53000000e+02, -1.52600000e+02, -1.52200000e+02,\n",
            "       -1.51800000e+02, -1.51400000e+02, -1.51000000e+02, -1.50600000e+02,\n",
            "       -1.50200000e+02, -1.49800000e+02, -1.49400000e+02, -1.49000000e+02,\n",
            "       -1.48600000e+02, -1.48200000e+02, -1.47800000e+02, -1.47400000e+02,\n",
            "       -1.47000000e+02, -1.46600000e+02, -1.46200000e+02, -1.45800000e+02,\n",
            "       -1.45400000e+02, -1.45000000e+02, -1.44600000e+02, -1.44200000e+02,\n",
            "       -1.43800000e+02, -1.43400000e+02, -1.43000000e+02, -1.42600000e+02,\n",
            "       -1.42200000e+02, -1.41800000e+02, -1.41400000e+02, -1.41000000e+02,\n",
            "       -1.40600000e+02, -1.40200000e+02, -1.39800000e+02, -1.39400000e+02,\n",
            "       -1.39000000e+02, -1.38600000e+02, -1.38200000e+02, -1.37800000e+02,\n",
            "       -1.37400000e+02, -1.37000000e+02, -1.36600000e+02, -1.36200000e+02,\n",
            "       -1.35800000e+02, -1.35400000e+02, -1.35000000e+02, -1.34600000e+02,\n",
            "       -1.34200000e+02, -1.33800000e+02, -1.33400000e+02, -1.33000000e+02,\n",
            "       -1.32600000e+02, -1.32200000e+02, -1.31800000e+02, -1.31400000e+02,\n",
            "       -1.31000000e+02, -1.30600000e+02, -1.30200000e+02, -1.29800000e+02,\n",
            "       -1.29400000e+02, -1.29000000e+02, -1.28600000e+02, -1.28200000e+02,\n",
            "       -1.27800000e+02, -1.27400000e+02, -1.27000000e+02, -1.26600000e+02,\n",
            "       -1.26200000e+02, -1.25800000e+02, -1.25400000e+02, -1.25000000e+02,\n",
            "       -1.24600000e+02, -1.24200000e+02, -1.23800000e+02, -1.23400000e+02,\n",
            "       -1.23000000e+02, -1.22600000e+02, -1.22200000e+02, -1.21800000e+02,\n",
            "       -1.21400000e+02, -1.21000000e+02, -1.20600000e+02, -1.20200000e+02,\n",
            "       -1.19800000e+02, -1.19400000e+02, -1.19000000e+02, -1.18600000e+02,\n",
            "       -1.18200000e+02, -1.17800000e+02, -1.17400000e+02, -1.17000000e+02,\n",
            "       -1.16600000e+02, -1.16200000e+02, -1.15800000e+02, -1.15400000e+02,\n",
            "       -1.15000000e+02, -1.14600000e+02, -1.14200000e+02, -1.13800000e+02,\n",
            "       -1.13400000e+02, -1.13000000e+02, -1.12600000e+02, -1.12200000e+02,\n",
            "       -1.11800000e+02, -1.11400000e+02, -1.11000000e+02, -1.10600000e+02,\n",
            "       -1.10200000e+02, -1.09800000e+02, -1.09400000e+02, -1.09000000e+02,\n",
            "       -1.08600000e+02, -1.08200000e+02, -1.07800000e+02, -1.07400000e+02,\n",
            "       -1.07000000e+02, -1.06600000e+02, -1.06200000e+02, -1.05800000e+02,\n",
            "       -1.05400000e+02, -1.05000000e+02, -1.04600000e+02, -1.04200000e+02,\n",
            "       -1.03800000e+02, -1.03400000e+02, -1.03000000e+02, -1.02600000e+02,\n",
            "       -1.02200000e+02, -1.01800000e+02, -1.01400000e+02, -1.01000000e+02,\n",
            "       -1.00600000e+02, -1.00200000e+02, -9.98000000e+01, -9.94000000e+01,\n",
            "       -9.90000000e+01, -9.86000000e+01, -9.82000000e+01, -9.78000000e+01,\n",
            "       -9.74000000e+01, -9.70000000e+01, -9.66000000e+01, -9.62000000e+01,\n",
            "       -9.58000000e+01, -9.54000000e+01, -9.50000000e+01, -9.45999999e+01,\n",
            "       -9.41999999e+01, -9.37999999e+01, -9.33999999e+01, -9.29999999e+01,\n",
            "       -9.25999999e+01, -9.21999999e+01, -9.17999999e+01, -9.13999999e+01,\n",
            "       -9.09999999e+01, -9.05999999e+01, -9.01999999e+01, -8.97999999e+01,\n",
            "       -8.93999999e+01, -8.89999999e+01, -8.85999999e+01, -8.81999998e+01,\n",
            "       -8.77999998e+01, -8.73999998e+01, -8.69999998e+01, -8.65999998e+01,\n",
            "       -8.61999998e+01, -8.57999998e+01, -8.53999997e+01, -8.49999997e+01,\n",
            "       -8.45999997e+01, -8.41999997e+01, -8.37999997e+01, -8.33999996e+01,\n",
            "       -8.29999996e+01, -8.25999996e+01, -8.21999995e+01, -8.17999995e+01,\n",
            "       -8.13999995e+01, -8.09999994e+01, -8.05999994e+01, -8.01999994e+01,\n",
            "       -7.97999993e+01, -7.93999993e+01, -7.89999992e+01, -7.85999992e+01,\n",
            "       -7.81999991e+01, -7.77999990e+01, -7.73999990e+01, -7.69999989e+01,\n",
            "       -7.65999988e+01, -7.61999987e+01, -7.57999986e+01, -7.53999985e+01,\n",
            "       -7.49999984e+01, -7.45999983e+01, -7.41999982e+01, -7.37999981e+01,\n",
            "       -7.33999979e+01, -7.29999978e+01, -7.25999976e+01, -7.21999974e+01,\n",
            "       -7.17999973e+01, -7.13999971e+01, -7.09999969e+01, -7.05999966e+01,\n",
            "       -7.01999964e+01, -6.97999961e+01, -6.93999959e+01, -6.89999956e+01,\n",
            "       -6.85999952e+01, -6.81999949e+01, -6.77999945e+01, -6.73999941e+01,\n",
            "       -6.69999937e+01, -6.65999933e+01, -6.61999928e+01, -6.57999923e+01,\n",
            "       -6.53999917e+01, -6.49999911e+01, -6.45999905e+01, -6.41999898e+01,\n",
            "       -6.37999890e+01, -6.33999883e+01, -6.29999874e+01, -6.25999865e+01,\n",
            "       -6.21999855e+01, -6.17999845e+01, -6.13999834e+01, -6.09999822e+01,\n",
            "       -6.05999809e+01, -6.01999796e+01, -5.97999781e+01, -5.93999765e+01,\n",
            "       -5.89999748e+01, -5.85999730e+01, -5.81999711e+01, -5.77999690e+01,\n",
            "       -5.73999668e+01, -5.69999644e+01, -5.65999619e+01, -5.61999591e+01,\n",
            "       -5.57999562e+01, -5.53999530e+01, -5.49999497e+01, -5.45999461e+01,\n",
            "       -5.41999422e+01, -5.37999380e+01, -5.33999336e+01, -5.29999288e+01,\n",
            "       -5.25999237e+01, -5.21999183e+01, -5.17999124e+01, -5.13999061e+01,\n",
            "       -5.09998994e+01, -5.05998921e+01, -5.01998844e+01, -4.97998761e+01,\n",
            "       -4.93998672e+01, -4.89998577e+01, -4.85998475e+01, -4.81998365e+01,\n",
            "       -4.77998248e+01, -4.73998122e+01, -4.69997987e+01, -4.65997843e+01,\n",
            "       -4.61997688e+01, -4.57997522e+01, -4.53997344e+01, -4.49997153e+01,\n",
            "       -4.45996949e+01, -4.41996730e+01, -4.37996495e+01, -4.33996244e+01,\n",
            "       -4.29995974e+01, -4.25995685e+01, -4.21995376e+01, -4.17995044e+01,\n",
            "       -4.13994688e+01, -4.09994307e+01, -4.05993898e+01, -4.01993460e+01,\n",
            "       -3.97992991e+01, -3.93992488e+01, -3.89991949e+01, -3.85991371e+01,\n",
            "       -3.81990751e+01, -3.77990088e+01, -3.73989376e+01, -3.69988614e+01,\n",
            "       -3.65987796e+01, -3.61986921e+01, -3.57985982e+01, -3.53984976e+01,\n",
            "       -3.49983897e+01, -3.45982742e+01, -3.41981503e+01, -3.37980175e+01,\n",
            "       -3.33978752e+01, -3.29977227e+01, -3.25975593e+01, -3.21973841e+01,\n",
            "       -3.17971963e+01, -3.13969951e+01, -3.09967795e+01, -3.05965483e+01,\n",
            "       -3.01963006e+01, -2.97960350e+01, -2.93957505e+01, -2.89954455e+01,\n",
            "       -2.85951186e+01, -2.81947682e+01, -2.77943927e+01, -2.73939902e+01,\n",
            "       -2.69935589e+01, -2.65930966e+01, -2.61926011e+01, -2.57920701e+01,\n",
            "       -2.53915009e+01, -2.49908909e+01, -2.45902371e+01, -2.41895364e+01,\n",
            "       -2.37887854e+01, -2.33879805e+01, -2.29871178e+01, -2.25861932e+01,\n",
            "       -2.21852022e+01, -2.17841402e+01, -2.13830018e+01, -2.09817818e+01,\n",
            "       -2.05804742e+01, -2.01790728e+01, -1.97775708e+01, -1.93759610e+01,\n",
            "       -1.89742356e+01, -1.85723864e+01, -1.81704045e+01, -1.77682803e+01,\n",
            "       -1.73660037e+01, -1.69635636e+01, -1.65609485e+01, -1.61581456e+01,\n",
            "       -1.57551416e+01, -1.53519219e+01, -1.49484712e+01, -1.45447728e+01,\n",
            "       -1.41408090e+01, -1.37365606e+01, -1.33320074e+01, -1.29271273e+01,\n",
            "       -1.25218970e+01, -1.21162912e+01, -1.17102832e+01, -1.13038439e+01,\n",
            "       -1.08969424e+01, -1.04895456e+01, -1.00816179e+01, -9.67312124e+00,\n",
            "       -9.26401472e+00, -8.85425458e+00, -8.44379393e+00, -8.03258248e+00,\n",
            "       -7.62056634e+00, -7.20768777e+00, -6.79388485e+00, -6.37909126e+00,\n",
            "       -5.96323587e+00, -5.54624249e+00, -5.12802943e+00, -4.70850917e+00,\n",
            "       -4.28758786e+00, -3.86516496e+00, -3.44113269e+00, -3.01537554e+00,\n",
            "       -2.58776971e+00, -2.15818251e+00, -1.72647174e+00, -1.29248498e+00,\n",
            "       -8.56058869e-01, -4.17018331e-01,  2.48242824e-02,  4.69670085e-01,\n",
            "        9.17734625e-01,  1.36924892e+00,  1.82446058e+00,  2.28363497e+00,\n",
            "        2.74705652e+00,  3.21503004e+00,  3.68788226e+00,  4.16596334e+00,\n",
            "        4.64964856e+00,  5.13934017e+00,  5.63546925e+00,  6.13849785e+00,\n",
            "        6.64892117e+00,  7.16726995e+00,  7.69411303e+00,  8.23006008e+00,\n",
            "        8.77576452e+00,  9.33192668e+00,  9.89929713e+00,  1.04786803e+01,\n",
            "        1.10709385e+01,  1.16769957e+01,  1.22978423e+01,  1.29345399e+01,\n",
            "        1.35882261e+01,  1.42601202e+01,  1.49515290e+01,  1.56638534e+01,\n",
            "        1.63985943e+01,  1.71573607e+01,  1.79418770e+01,  1.87539914e+01,\n",
            "        1.95956847e+01,  2.04690798e+01,  2.13764521e+01,  2.23202403e+01,\n",
            "        2.33030581e+01,  2.43277067e+01,  2.53971885e+01,  2.65147214e+01,\n",
            "        2.76837540e+01,  2.89079828e+01,  3.01913693e+01,  3.15381596e+01,\n",
            "        3.29529043e+01,  3.44404807e+01,  3.60061162e+01,  3.76554134e+01,\n",
            "        3.93943770e+01,  4.12294427e+01,  4.31675080e+01,  4.52159656e+01,\n",
            "        4.73827387e+01,  4.96763192e+01,  5.21058085e+01,  5.46809613e+01,\n",
            "        5.74122324e+01,  6.03108268e+01,  6.33887541e+01,  6.66588854e+01,\n",
            "        7.01350160e+01,  7.38319312e+01,  7.77654773e+01,  8.19526384e+01,\n",
            "        8.64116170e+01,  9.11619226e+01,  9.62244648e+01,  1.01621654e+02,\n",
            "        1.07377508e+02,  1.13517771e+02,  1.20070032e+02,  1.27063862e+02,\n",
            "        1.34530955e+02,  1.42505277e+02,  1.51023234e+02,  1.60123845e+02,\n",
            "        1.69848930e+02,  1.80243307e+02,  1.91355016e+02,  2.03235542e+02,\n",
            "        2.15940064e+02,  2.29527725e+02,  2.44061909e+02,  2.59610553e+02,\n",
            "        2.76246468e+02,  2.94047691e+02,  3.13097859e+02,  3.33486615e+02,\n",
            "        3.55310033e+02,  3.78671083e+02,  4.03680128e+02,  4.30455449e+02,\n",
            "        4.59123819e+02,  4.89821107e+02,  5.22692936e+02,  5.57895381e+02,\n",
            "        5.95595718e+02,  6.35973229e+02,  6.79220065e+02,  7.25542167e+02,\n",
            "        7.75160256e+02,  8.28310899e+02,  8.85247637e+02,  9.46242214e+02,\n",
            "        1.01158587e+03,  1.08159076e+03,  1.15659144e+03,  1.23694646e+03,\n",
            "        1.32304013e+03,  1.41528433e+03,  1.51412051e+03,  1.62002180e+03,\n",
            "        1.73349527e+03,  1.85508443e+03,  1.98537174e+03,  2.12498152e+03,\n",
            "        2.27458287e+03,  2.43489292e+03,  2.60668026e+03,  2.79076867e+03,\n",
            "        2.98804103e+03,  3.19944360e+03,  3.42599055e+03,  3.66876885e+03,\n",
            "        3.92894349e+03,  4.20776305e+03,  4.50656575e+03,  4.82678584e+03,\n",
            "        5.16996052e+03,  5.53773733e+03,  5.93188205e+03,  6.35428719e+03,\n",
            "        6.80698110e+03,  7.29213771e+03,  7.81208698e+03,  8.36932610e+03,\n",
            "        8.96653149e+03,  9.60657167e+03,  1.02925210e+04,  1.10276747e+04,\n",
            "        1.18155641e+04,  1.26599744e+04,  1.35649622e+04,  1.45348754e+04,\n",
            "        1.55743740e+04,  1.66884522e+04,  1.78824630e+04,  1.91621433e+04,\n",
            "        2.05336421e+04,  2.20035493e+04,  2.35789282e+04,  2.52673488e+04,\n",
            "        2.70769244e+04,  2.90163508e+04,  3.10949479e+04,  3.33227044e+04,\n",
            "        3.57103260e+04,  3.82692867e+04,  4.10118842e+04,  4.39512987e+04,\n",
            "        4.71016564e+04,  5.04780975e+04,  5.40968488e+04,  5.79753017e+04,\n",
            "        6.21320958e+04,  6.65872088e+04,  7.13620519e+04,  7.64795734e+04,\n",
            "        8.19643683e+04,  8.78427973e+04,  9.41431128e+04,  1.00895595e+05,\n",
            "        1.08132698e+05,  1.15889203e+05,  1.24202392e+05,  1.33112218e+05,\n",
            "        1.42661504e+05,  1.52896147e+05,  1.63865337e+05,  1.75621795e+05,\n",
            "        1.88222026e+05,  2.01726590e+05,  2.16200395e+05,  2.31713007e+05,\n",
            "        2.48338983e+05,  2.66158235e+05,  2.85256408e+05,  3.05725293e+05,\n",
            "        3.27663273e+05,  3.51175789e+05,  3.76375851e+05,  4.03384580e+05,\n",
            "        4.32331790e+05,  4.63356613e+05,  4.96608167e+05,  5.32246270e+05,\n",
            "        5.70442215e+05,  6.11379587e+05,  6.55255147e+05,  7.02279779e+05,\n",
            "        7.52679503e+05,  8.06696560e+05,  8.64590581e+05,  9.26639827e+05,\n",
            "        9.93142533e+05,  1.06441834e+06,  1.14080983e+06,  1.22268417e+06,\n",
            "        1.31043489e+06,  1.40448376e+06,  1.50528281e+06,  1.61331652e+06,\n",
            "        1.72910416e+06,  1.85320225e+06,  1.98620727e+06,  2.12875848e+06,\n",
            "        2.28154106e+06,  2.44528935e+06,  2.62079039e+06,  2.80888771e+06,\n",
            "        3.01048541e+06,  3.22655244e+06,  3.45812732e+06,  3.70632311e+06,\n",
            "        3.97233273e+06,  4.25743476e+06,  4.56299952e+06,  4.89049570e+06,\n",
            "        5.24149737e+06,  5.61769163e+06,  6.02088662e+06,  6.45302028e+06,\n",
            "        6.91616965e+06,  7.41256081e+06,  7.94457967e+06,  8.51478333e+06,\n",
            "        9.12591245e+06,  9.78090439e+06,  1.04829073e+07,  1.12352955e+07,\n",
            "        1.20416850e+07,  1.29059520e+07,  1.38322503e+07,  1.48250322e+07,\n",
            "        1.58890695e+07,  1.70294765e+07,  1.82517343e+07,  1.95617178e+07,\n",
            "        2.09657233e+07,  2.24704991e+07,  2.40832779e+07,  2.58118113e+07,\n",
            "        2.76644076e+07,  2.96499711e+07,  3.17780453e+07,  3.40588587e+07,\n",
            "        3.65033740e+07,  3.91233406e+07,  4.19313512e+07,  4.49409024e+07,\n",
            "        4.81664596e+07,  5.16235261e+07,  5.53287182e+07,  5.92998447e+07,\n",
            "        6.35559927e+07,  6.81176192e+07,  7.30066494e+07,  7.82465821e+07,\n",
            "        8.38626030e+07,  8.98817051e+07,  9.63328189e+07,  1.03246952e+08,\n",
            "        1.10657335e+08,  1.18599588e+08,  1.27111884e+08,  1.36235136e+08,\n",
            "        1.46013196e+08,  1.56493061e+08,  1.67725103e+08,  1.79763306e+08,\n",
            "        1.92665534e+08,  2.06493798e+08,  2.21314566e+08,  2.37199071e+08,\n",
            "        2.54223662e+08,  2.72470166e+08,  2.92026286e+08,  3.12986016e+08,\n",
            "        3.35450098e+08,  3.59526505e+08,  3.85330959e+08,  4.12987488e+08,\n",
            "        4.42629022e+08,  4.74398032e+08,  5.08447213e+08,  5.44940222e+08,\n",
            "        5.84052461e+08,  6.25971920e+08,  6.70900084e+08,  7.19052898e+08,\n",
            "        7.70661806e+08,  8.25974864e+08,  8.85257932e+08,  9.48795950e+08,\n",
            "        1.01689431e+09,  1.08988033e+09,  1.16810481e+09,  1.25194373e+09,\n",
            "        1.34180005e+09,  1.43810568e+09,  1.54132350e+09,  1.65194961e+09,\n",
            "        1.77051575e+09,  1.89759178e+09,  2.03378851e+09,  2.17976054e+09,\n",
            "        2.33620950e+09,  2.50388733e+09,  2.68359999e+09,  2.87621124e+09,\n",
            "        3.08264687e+09,  3.30389910e+09,  3.54103137e+09,  3.79518345e+09,\n",
            "        4.06757689e+09,  4.35952096e+09,  4.67241887e+09,  5.00777454e+09,\n",
            "        5.36719985e+09,  5.75242236e+09,  6.16529362e+09,  6.60779808e+09,\n",
            "        7.08206262e+09,  7.59036677e+09,  8.13515366e+09,  8.71904180e+09,\n",
            "        9.34483761e+09,  1.00155490e+10,  1.07343996e+10,  1.15048446e+10,\n",
            "        1.23305871e+10,  1.32155960e+10,  1.41641251e+10,  1.51807334e+10,\n",
            "        1.62703072e+10,  1.74380835e+10,  1.86896751e+10,  2.00310978e+10,\n",
            "        2.14687990e+10,  2.30096890e+10,  2.46611741e+10,  2.64311919e+10,\n",
            "        2.83282501e+10,  3.03614667e+10,  3.25406143e+10,  3.48761668e+10,\n",
            "        3.73793500e+10,  4.00621954e+10,  4.29375979e+10,  4.60193779e+10,\n",
            "        4.93223480e+10,  5.28623837e+10,  5.66565000e+10,  6.07229332e+10,\n",
            "        6.50812284e+10,  6.97523335e+10,  7.47586999e+10,  8.01243907e+10,\n",
            "        8.58751956e+10,  9.20387558e+10,  9.86446959e+10,  1.05724767e+11,\n",
            "        1.13313000e+11,  1.21445866e+11,  1.30162457e+11,  1.39504667e+11,\n",
            "        1.49517400e+11,  1.60248781e+11,  1.71750391e+11,  1.84077511e+11,\n",
            "        1.97289392e+11,  2.11449534e+11,  2.26626000e+11,  2.42891732e+11,\n",
            "        2.60324913e+11,  2.79009333e+11,  2.99034799e+11,  3.20497562e+11,\n",
            "        3.43500782e+11,  3.68155023e+11,  3.94578783e+11,  4.22899069e+11,\n",
            "        4.53251999e+11,  4.85783465e+11,  5.20649826e+11,  5.58018667e+11,\n",
            "        5.98069599e+11,  6.40995124e+11,  6.87001564e+11,  7.36310045e+11,\n",
            "        7.89157566e+11,  8.45798137e+11,  9.06503998e+11,  9.71566929e+11,\n",
            "        1.04129965e+12,  1.11603733e+12,  1.19613920e+12,  1.28199025e+12,\n",
            "        1.37400313e+12,  1.47262009e+12,  1.57831513e+12,  1.69159627e+12,\n",
            "        1.81300800e+12,  1.94313386e+12,  2.08259930e+12,  2.23207467e+12,\n",
            "        2.39227839e+12,  2.56398050e+12,  2.74800626e+12,  2.94524018e+12,\n",
            "        3.15663027e+12,  3.38319255e+12,  3.62601599e+12,  3.88626772e+12,\n",
            "        4.16519861e+12,  4.46414933e+12,  4.78455679e+12,  5.12796099e+12,\n",
            "        5.49601251e+12,  5.89048036e+12,  6.31326053e+12,  6.76638510e+12,\n",
            "        7.25203199e+12,  7.77253543e+12,  8.33039721e+12,  8.92829866e+12,\n",
            "        9.56911357e+12,  1.02559220e+13,  1.09920250e+13,  1.17809607e+13,\n",
            "        1.26265211e+13,  1.35327702e+13,  1.45040640e+13,  1.55450709e+13,\n",
            "        1.66607944e+13,  1.78565973e+13,  1.91382271e+13,  2.05118440e+13,\n",
            "        2.19840500e+13,  2.35619214e+13,  2.52530421e+13,  2.70655404e+13,\n",
            "        2.90081279e+13,  3.10901417e+13,  3.33215888e+13,  3.57131947e+13,\n",
            "        3.82764543e+13,  4.10236880e+13,  4.39681001e+13,  4.71238429e+13,\n",
            "        5.05060842e+13,  5.41310808e+13,  5.80162559e+13,  6.21802835e+13,\n",
            "        6.66431777e+13,  7.14263893e+13,  7.65529086e+13,  8.20473759e+13,\n",
            "        8.79362002e+13,  9.42476857e+13,  1.01012168e+14,  1.08262162e+14,\n",
            "        1.16032512e+14,  1.24360567e+14,  1.33286355e+14,  1.42852779e+14,\n",
            "        1.53105817e+14,  1.64094752e+14,  1.75872400e+14,  1.88495371e+14,\n",
            "        2.02024337e+14,  2.16524323e+14,  2.32065024e+14,  2.48721134e+14,\n",
            "        2.66572711e+14,  2.85705557e+14,  3.06211634e+14,  3.28189504e+14,\n",
            "        3.51744801e+14,  3.76990743e+14,  4.04048674e+14,  4.33048646e+14,\n",
            "        4.64130047e+14,  4.97442268e+14,  5.33145422e+14,  5.71411115e+14,\n",
            "        6.12423269e+14,  6.56379007e+14,  7.03489601e+14,  7.53981486e+14]))\n"
          ]
        }
      ]
    },
    {
      "cell_type": "code",
      "source": [
        "plt.title(\"y=2*x**2 + 2**x\")\n",
        "plt.xlabel(\"X\")\n",
        "plt.ylabel(\"Y\")\n",
        "plt.plot(xy_array2[:, 0], xy_array2[:, 1])\n",
        "plt.show()\n",
        "\n",
        "plt.title(\"Gradient of y=2*x**2 + 2**x\")\n",
        "plt.xlabel(\"X\")\n",
        "plt.ylabel(\"gradient\")\n",
        "plt.plot(xy_array2[:-1, 0], gradient2)\n",
        "plt.show()"
      ],
      "metadata": {
        "colab": {
          "base_uri": "https://localhost:8080/",
          "height": 927
        },
        "id": "o1r8AesiFICB",
        "outputId": "10bf1ecb-785b-42b9-8782-e99a90f5bd3f"
      },
      "execution_count": 14,
      "outputs": [
        {
          "output_type": "display_data",
          "data": {
            "text/plain": [
              "<Figure size 640x480 with 1 Axes>"
            ],
            "image/png": "[encoded data removed]"
          },
          "metadata": {}
        },
        {
          "output_type": "display_data",
          "data": {
            "text/plain": [
              "<Figure size 640x480 with 1 Axes>"
            ],
            "image/png": "[encoded data removed]"
          },
          "metadata": {}
        }
      ]
    },
    {
      "cell_type": "code",
      "source": [
        "def compute_gradient(function, x_range = (-50, 50.1, 0.1)):\n",
        "    x_array = np.arange(*x_range)\n",
        "    y_array = function(x_array)\n",
        "\n",
        "    xy_array = np.concatenate((x_array[:, np.newaxis], y_array[:, np.newaxis]), axis = 1)\n",
        "    gradient = (xy_array[1:, 1] - xy_array[:-1, 1])/(xy_array[1:,0] - xy_array[:-1, 0])\n",
        "    return xy_array, gradient\n",
        "\n",
        "def function3(x_array):\n",
        "    y_array = x_array**0.5\n",
        "    return x_array**0.5\n",
        "\n",
        "xy_array3, gradient3 = compute_gradient(function3)\n",
        "print(compute_gradient(function3))"
      ],
      "metadata": {
        "colab": {
          "base_uri": "https://localhost:8080/"
        },
        "id": "mzAgJuStF8Tn",
        "outputId": "ae59d2e7-5b23-4db4-9fc3-d3adfb62c345"
      },
      "execution_count": 15,
      "outputs": [
        {
          "output_type": "stream",
          "name": "stdout",
          "text": [
            "(array([[-50.        ,          nan],\n",
            "       [-49.9       ,          nan],\n",
            "       [-49.8       ,          nan],\n",
            "       ...,\n",
            "       [ 49.8       ,   7.05691151],\n",
            "       [ 49.9       ,   7.0639932 ],\n",
            "       [ 50.        ,   7.07106781]]), array([       nan,        nan,        nan,        nan,        nan,\n",
            "              nan,        nan,        nan,        nan,        nan,\n",
            "              nan,        nan,        nan,        nan,        nan,\n",
            "              nan,        nan,        nan,        nan,        nan,\n",
            "              nan,        nan,        nan,        nan,        nan,\n",
            "              nan,        nan,        nan,        nan,        nan,\n",
            "              nan,        nan,        nan,        nan,        nan,\n",
            "              nan,        nan,        nan,        nan,        nan,\n",
            "              nan,        nan,        nan,        nan,        nan,\n",
            "              nan,        nan,        nan,        nan,        nan,\n",
            "              nan,        nan,        nan,        nan,        nan,\n",
            "              nan,        nan,        nan,        nan,        nan,\n",
            "              nan,        nan,        nan,        nan,        nan,\n",
            "              nan,        nan,        nan,        nan,        nan,\n",
            "              nan,        nan,        nan,        nan,        nan,\n",
            "              nan,        nan,        nan,        nan,        nan,\n",
            "              nan,        nan,        nan,        nan,        nan,\n",
            "              nan,        nan,        nan,        nan,        nan,\n",
            "              nan,        nan,        nan,        nan,        nan,\n",
            "              nan,        nan,        nan,        nan,        nan,\n",
            "              nan,        nan,        nan,        nan,        nan,\n",
            "              nan,        nan,        nan,        nan,        nan,\n",
            "              nan,        nan,        nan,        nan,        nan,\n",
            "              nan,        nan,        nan,        nan,        nan,\n",
            "              nan,        nan,        nan,        nan,        nan,\n",
            "              nan,        nan,        nan,        nan,        nan,\n",
            "              nan,        nan,        nan,        nan,        nan,\n",
            "              nan,        nan,        nan,        nan,        nan,\n",
            "              nan,        nan,        nan,        nan,        nan,\n",
            "              nan,        nan,        nan,        nan,        nan,\n",
            "              nan,        nan,        nan,        nan,        nan,\n",
            "              nan,        nan,        nan,        nan,        nan,\n",
            "              nan,        nan,        nan,        nan,        nan,\n",
            "              nan,        nan,        nan,        nan,        nan,\n",
            "              nan,        nan,        nan,        nan,        nan,\n",
            "              nan,        nan,        nan,        nan,        nan,\n",
            "              nan,        nan,        nan,        nan,        nan,\n",
            "              nan,        nan,        nan,        nan,        nan,\n",
            "              nan,        nan,        nan,        nan,        nan,\n",
            "              nan,        nan,        nan,        nan,        nan,\n",
            "              nan,        nan,        nan,        nan,        nan,\n",
            "              nan,        nan,        nan,        nan,        nan,\n",
            "              nan,        nan,        nan,        nan,        nan,\n",
            "              nan,        nan,        nan,        nan,        nan,\n",
            "              nan,        nan,        nan,        nan,        nan,\n",
            "              nan,        nan,        nan,        nan,        nan,\n",
            "              nan,        nan,        nan,        nan,        nan,\n",
            "              nan,        nan,        nan,        nan,        nan,\n",
            "              nan,        nan,        nan,        nan,        nan,\n",
            "              nan,        nan,        nan,        nan,        nan,\n",
            "              nan,        nan,        nan,        nan,        nan,\n",
            "              nan,        nan,        nan,        nan,        nan,\n",
            "              nan,        nan,        nan,        nan,        nan,\n",
            "              nan,        nan,        nan,        nan,        nan,\n",
            "              nan,        nan,        nan,        nan,        nan,\n",
            "              nan,        nan,        nan,        nan,        nan,\n",
            "              nan,        nan,        nan,        nan,        nan,\n",
            "              nan,        nan,        nan,        nan,        nan,\n",
            "              nan,        nan,        nan,        nan,        nan,\n",
            "              nan,        nan,        nan,        nan,        nan,\n",
            "              nan,        nan,        nan,        nan,        nan,\n",
            "              nan,        nan,        nan,        nan,        nan,\n",
            "              nan,        nan,        nan,        nan,        nan,\n",
            "              nan,        nan,        nan,        nan,        nan,\n",
            "              nan,        nan,        nan,        nan,        nan,\n",
            "              nan,        nan,        nan,        nan,        nan,\n",
            "              nan,        nan,        nan,        nan,        nan,\n",
            "              nan,        nan,        nan,        nan,        nan,\n",
            "              nan,        nan,        nan,        nan,        nan,\n",
            "              nan,        nan,        nan,        nan,        nan,\n",
            "              nan,        nan,        nan,        nan,        nan,\n",
            "              nan,        nan,        nan,        nan,        nan,\n",
            "              nan,        nan,        nan,        nan,        nan,\n",
            "              nan,        nan,        nan,        nan,        nan,\n",
            "              nan,        nan,        nan,        nan,        nan,\n",
            "              nan,        nan,        nan,        nan,        nan,\n",
            "              nan,        nan,        nan,        nan,        nan,\n",
            "              nan,        nan,        nan,        nan,        nan,\n",
            "              nan,        nan,        nan,        nan,        nan,\n",
            "              nan,        nan,        nan,        nan,        nan,\n",
            "              nan,        nan,        nan,        nan,        nan,\n",
            "              nan,        nan,        nan,        nan,        nan,\n",
            "              nan,        nan,        nan,        nan,        nan,\n",
            "              nan,        nan,        nan,        nan,        nan,\n",
            "              nan,        nan,        nan,        nan,        nan,\n",
            "              nan,        nan,        nan,        nan,        nan,\n",
            "              nan,        nan,        nan,        nan,        nan,\n",
            "              nan,        nan,        nan,        nan,        nan,\n",
            "              nan,        nan,        nan,        nan,        nan,\n",
            "              nan,        nan,        nan,        nan,        nan,\n",
            "              nan,        nan,        nan,        nan,        nan,\n",
            "              nan,        nan,        nan,        nan,        nan,\n",
            "              nan,        nan,        nan,        nan,        nan,\n",
            "              nan,        nan,        nan,        nan,        nan,\n",
            "              nan,        nan,        nan,        nan,        nan,\n",
            "              nan,        nan,        nan,        nan,        nan,\n",
            "              nan,        nan,        nan,        nan,        nan,\n",
            "              nan,        nan,        nan,        nan,        nan,\n",
            "              nan,        nan,        nan,        nan,        nan,\n",
            "              nan,        nan,        nan,        nan,        nan,\n",
            "       3.16226923, 1.30985829, 1.00508962, 0.84732975, 0.74651249,\n",
            "       0.67489888, 0.62063357, 0.57767164, 0.54256107, 0.51316702,\n",
            "       0.48808848, 0.46636267, 0.4473031 , 0.43040532, 0.41528915,\n",
            "       0.40166193, 0.38929417, 0.37800305, 0.36764089, 0.35808687,\n",
            "       0.34924112, 0.34102023, 0.33335391, 0.3261825 , 0.31945492,\n",
            "       0.3131272 , 0.30716123, 0.30152381, 0.29618584, 0.29112171,\n",
            "       0.28630879, 0.28172696, 0.2773583 , 0.27318679, 0.26919802,\n",
            "       0.26537903, 0.2617181 , 0.25820463, 0.25482897, 0.25158234,\n",
            "       0.24845673, 0.2454448 , 0.24253982, 0.23973561, 0.23702647,\n",
            "       0.23440715, 0.2318728 , 0.22941891, 0.22704132, 0.22473615,\n",
            "       0.22249981, 0.22032892, 0.21822036, 0.21617121, 0.21417872,\n",
            "       0.21224033, 0.21035364, 0.20851638, 0.20672645, 0.20498182,\n",
            "       0.20328064, 0.20162113, 0.2000016 , 0.19842049, 0.19687629,\n",
            "       0.19536759, 0.19389305, 0.19245141, 0.19104145, 0.18966204,\n",
            "       0.18831208, 0.18699054, 0.18569644, 0.18442885, 0.18318686,\n",
            "       0.18196963, 0.18077635, 0.17960624, 0.17845856, 0.1773326 ,\n",
            "       0.17622769, 0.17514319, 0.17407846, 0.17303291, 0.17200598,\n",
            "       0.17099712, 0.17000581, 0.16903154, 0.16807383, 0.16713222,\n",
            "       0.16620626, 0.16529552, 0.16439959, 0.16351807, 0.16265058,\n",
            "       0.16179675, 0.16095624, 0.16012868, 0.15931376, 0.15851116,\n",
            "       0.15772056, 0.15694168, 0.15617423, 0.15541792, 0.1546725 ,\n",
            "       0.1539377 , 0.15321328, 0.15249898, 0.15179459, 0.15109987,\n",
            "       0.15041459, 0.14973856, 0.14907157, 0.1484134 , 0.14776388,\n",
            "       0.14712282, 0.14649002, 0.14586532, 0.14524855, 0.14463953,\n",
            "       0.14403811, 0.14344413, 0.14285744, 0.14227789, 0.14170534,\n",
            "       0.14113964, 0.14058066, 0.14002828, 0.13948235, 0.13894276,\n",
            "       0.13840939, 0.13788211, 0.13736081, 0.13684538, 0.13633571,\n",
            "       0.13583169, 0.13533322, 0.1348402 , 0.13435252, 0.1338701 ,\n",
            "       0.13339284, 0.13292065, 0.13245344, 0.13199112, 0.13153361,\n",
            "       0.13108082, 0.13063268, 0.1301891 , 0.12975001, 0.12931533,\n",
            "       0.12888499, 0.12845892, 0.12803705, 0.12761931, 0.12720563,\n",
            "       0.12679595, 0.1263902 , 0.12598832, 0.12559025, 0.12519593,\n",
            "       0.1248053 , 0.1244183 , 0.12403488, 0.12365499, 0.12327856,\n",
            "       0.12290555, 0.12253591, 0.12216958, 0.12180652, 0.12144667,\n",
            "       0.12109   , 0.12073645, 0.12038598, 0.12003854, 0.1196941 ,\n",
            "       0.1193526 , 0.11901401, 0.11867828, 0.11834538, 0.11801527,\n",
            "       0.1176879 , 0.11736324, 0.11704126, 0.11672191, 0.11640516,\n",
            "       0.11609097, 0.11577932, 0.11547016, 0.11516346, 0.1148592 ,\n",
            "       0.11455733, 0.11425783, 0.11396067, 0.11366582, 0.11337324,\n",
            "       0.11308291, 0.1127948 , 0.11250888, 0.11222512, 0.1119435 ,\n",
            "       0.11166399, 0.11138657, 0.1111112 , 0.11083786, 0.11056653,\n",
            "       0.11029718, 0.11002979, 0.10976434, 0.1095008 , 0.10923915,\n",
            "       0.10897936, 0.10872142, 0.1084653 , 0.10821099, 0.10795845,\n",
            "       0.10770768, 0.10745864, 0.10721132, 0.10696571, 0.10672177,\n",
            "       0.1064795 , 0.10623886, 0.10599985, 0.10576245, 0.10552664,\n",
            "       0.10529239, 0.1050597 , 0.10482855, 0.10459891, 0.10437078,\n",
            "       0.10414413, 0.10391895, 0.10369523, 0.10347295, 0.10325208,\n",
            "       0.10303263, 0.10281457, 0.10259789, 0.10238258, 0.10216861,\n",
            "       0.10195598, 0.10174467, 0.10153467, 0.10132597, 0.10111854,\n",
            "       0.10091239, 0.10070749, 0.10050383, 0.10030141, 0.1001002 ,\n",
            "       0.0999002 , 0.09970139, 0.09950377, 0.09930731, 0.09911202,\n",
            "       0.09891787, 0.09872486, 0.09853297, 0.0983422 , 0.09815254,\n",
            "       0.09796396, 0.09777647, 0.09759005, 0.09740469, 0.09722039,\n",
            "       0.09703713, 0.0968549 , 0.09667369, 0.0964935 , 0.09631431,\n",
            "       0.09613611, 0.0959589 , 0.09578267, 0.0956074 , 0.0954331 ,\n",
            "       0.09525974, 0.09508732, 0.09491584, 0.09474528, 0.09457564,\n",
            "       0.0944069 , 0.09423907, 0.09407212, 0.09390606, 0.09374088,\n",
            "       0.09357657, 0.09341312, 0.09325052, 0.09308876, 0.09292785,\n",
            "       0.09276777, 0.09260851, 0.09245007, 0.09229244, 0.09213561,\n",
            "       0.09197958, 0.09182434, 0.09166988, 0.0915162 , 0.09136329,\n",
            "       0.09121115, 0.09105976, 0.09090912, 0.09075923, 0.09061008,\n",
            "       0.09046166, 0.09031397, 0.09016699, 0.09002074, 0.08987519,\n",
            "       0.08973035, 0.0895862 , 0.08944275, 0.08929998, 0.0891579 ,\n",
            "       0.08901649, 0.08887575, 0.08873568, 0.08859627, 0.08845751,\n",
            "       0.0883194 , 0.08818194, 0.08804512, 0.08790893, 0.08777337,\n",
            "       0.08763844, 0.08750413, 0.08737043, 0.08723735, 0.08710487,\n",
            "       0.08697299, 0.08684171, 0.08671102, 0.08658092, 0.08645141,\n",
            "       0.08632247, 0.08619411, 0.08606632, 0.0859391 , 0.08581244,\n",
            "       0.08568633, 0.08556079, 0.08543579, 0.08531134, 0.08518743,\n",
            "       0.08506406, 0.08494122, 0.08481891, 0.08469714, 0.08457588,\n",
            "       0.08445514, 0.08433492, 0.08421521, 0.08409601, 0.08397732,\n",
            "       0.08385912, 0.08374142, 0.08362422, 0.08350751, 0.08339128,\n",
            "       0.08327554, 0.08316028, 0.0830455 , 0.08293119, 0.08281735,\n",
            "       0.08270398, 0.08259107, 0.08247863, 0.08236664, 0.08225511,\n",
            "       0.08214403, 0.0820334 , 0.08192321, 0.08181347, 0.08170416,\n",
            "       0.0815953 , 0.08148687, 0.08137886, 0.08127129, 0.08116414,\n",
            "       0.08105742, 0.08095111, 0.08084523, 0.08073975, 0.08063469,\n",
            "       0.08053004, 0.08042579, 0.08032195, 0.08021851, 0.08011547,\n",
            "       0.08001282, 0.07991057, 0.0798087 , 0.07970723, 0.07960614,\n",
            "       0.07950544, 0.07940512, 0.07930517, 0.07920561, 0.07910641,\n",
            "       0.07900759, 0.07890914, 0.07881106, 0.07871334, 0.07861598,\n",
            "       0.07851898, 0.07842234, 0.07832606, 0.07823013, 0.07813455,\n",
            "       0.07803932, 0.07794444, 0.07784991, 0.07775572, 0.07766187,\n",
            "       0.07756835, 0.07747518, 0.07738234, 0.07728983, 0.07719765,\n",
            "       0.07710581, 0.07701429, 0.07692309, 0.07683222, 0.07674167,\n",
            "       0.07665144, 0.07656152, 0.07647192, 0.07638264, 0.07629367,\n",
            "       0.07620501, 0.07611665, 0.0760286 , 0.07594086, 0.07585342,\n",
            "       0.07576629, 0.07567945, 0.07559291, 0.07550666, 0.07542071,\n",
            "       0.07533506, 0.07524969, 0.07516461, 0.07507983, 0.07499532,\n",
            "       0.07491111, 0.07482717, 0.07474352, 0.07466015, 0.07457705,\n",
            "       0.07449424, 0.07441169, 0.07432943, 0.07424743, 0.0741657 ,\n",
            "       0.07408425, 0.07400306, 0.07392214, 0.07384148, 0.07376109,\n",
            "       0.07368096, 0.07360108, 0.07352147, 0.07344212, 0.07336302,\n",
            "       0.07328418, 0.07320559, 0.07312725, 0.07304917, 0.07297133,\n",
            "       0.07289374, 0.0728164 , 0.07273931, 0.07266246, 0.07258585,\n",
            "       0.07250948, 0.07243336, 0.07235747, 0.07228182, 0.07220641,\n",
            "       0.07213123, 0.07205629, 0.07198158, 0.07190711, 0.07183286,\n",
            "       0.07175885, 0.07168506, 0.0716115 , 0.07153816, 0.07146505,\n",
            "       0.07139217, 0.0713195 , 0.07124706, 0.07117484, 0.07110283,\n",
            "       0.07103105, 0.07095948, 0.07088813, 0.07081699, 0.07074607]))\n"
          ]
        },
        {
          "output_type": "stream",
          "name": "stderr",
          "text": [
            "<ipython-input-15-e49125c4a9d4>:10: RuntimeWarning: invalid value encountered in sqrt\n",
            "  y_array = x_array**0.5\n",
            "<ipython-input-15-e49125c4a9d4>:11: RuntimeWarning: invalid value encountered in sqrt\n",
            "  return x_array**0.5\n"
          ]
        }
      ]
    },
    {
      "cell_type": "code",
      "source": [
        "plt.title(\"y=sin(x**0.5)\")\n",
        "plt.xlabel(\"X\")\n",
        "plt.ylabel(\"Y\")\n",
        "plt.plot(xy_array3[:, 0], xy_array3[:, 1])\n",
        "plt.show()\n",
        "\n",
        "plt.title(\"Gradient of y=sin(x**0.5)\")\n",
        "plt.xlabel(\"X\")\n",
        "plt.ylabel(\"gradient\")\n",
        "plt.plot(xy_array3[:-1, 0], gradient3)\n",
        "plt.show()"
      ],
      "metadata": {
        "colab": {
          "base_uri": "https://localhost:8080/",
          "height": 927
        },
        "id": "xVkQBLk-GwXh",
        "outputId": "a367f82f-e7ff-4bb0-be69-3bdf4e678295"
      },
      "execution_count": 16,
      "outputs": [
        {
          "output_type": "display_data",
          "data": {
            "text/plain": [
              "<Figure size 640x480 with 1 Axes>"
            ],
            "image/png": "[encoded data removed]"
          },
          "metadata": {}
        },
        {
          "output_type": "display_data",
          "data": {
            "text/plain": [
              "<Figure size 640x480 with 1 Axes>"
            ],
            "image/png": "[encoded data removed]"
          },
          "metadata": {}
        }
      ]
    },
    {
      "cell_type": "markdown",
      "source": [
        "### [Problem 6] Find the minimum value"
      ],
      "metadata": {
        "id": "lxbQrBJiJX8A"
      }
    },
    {
      "cell_type": "code",
      "source": [
        "print(xy_array1.min(axis = 0)[0], xy_array1.argmin(axis = 0)[0])\n",
        "print(xy_array2.min(axis = 0)[0], xy_array2.argmin(axis = 0)[0])\n",
        "print(xy_array3.min(axis = 0)[1], xy_array3.argmin(axis = 0)[0])"
      ],
      "metadata": {
        "colab": {
          "base_uri": "https://localhost:8080/"
        },
        "id": "yutAdJ2oJb9l",
        "outputId": "09f21b5f-2652-49bc-8ec1-afe7575c0844"
      },
      "execution_count": 29,
      "outputs": [
        {
          "output_type": "stream",
          "name": "stdout",
          "text": [
            "-50.0 0\n",
            "-50.0 0\n",
            "nan 0\n"
          ]
        }
      ]
    },
    {
      "cell_type": "code",
      "source": [
        "gradient1[490:510]"
      ],
      "metadata": {
        "colab": {
          "base_uri": "https://localhost:8080/"
        },
        "id": "d1JeUAzCJ5Ix",
        "outputId": "00563236-2845-41a3-eebc-a66325e9b074"
      },
      "execution_count": 24,
      "outputs": [
        {
          "output_type": "execute_result",
          "data": {
            "text/plain": [
              "array([-1.9, -1.7, -1.5, -1.3, -1.1, -0.9, -0.7, -0.5, -0.3, -0.1,  0.1,\n",
              "        0.3,  0.5,  0.7,  0.9,  1.1,  1.3,  1.5,  1.7,  1.9])"
            ]
          },
          "metadata": {},
          "execution_count": 24
        }
      ]
    },
    {
      "cell_type": "code",
      "source": [
        "gradient2[488:508]"
      ],
      "metadata": {
        "colab": {
          "base_uri": "https://localhost:8080/"
        },
        "id": "GD7gfGXhKAvD",
        "outputId": "ac307417-bd82-416b-f28b-571076d6cf5f"
      },
      "execution_count": 25,
      "outputs": [
        {
          "output_type": "execute_result",
          "data": {
            "text/plain": [
              "array([-4.28758786, -3.86516496, -3.44113269, -3.01537554, -2.58776971,\n",
              "       -2.15818251, -1.72647174, -1.29248498, -0.85605887, -0.41701833,\n",
              "        0.02482428,  0.46967008,  0.91773463,  1.36924892,  1.82446058,\n",
              "        2.28363497,  2.74705652,  3.21503004,  3.68788226,  4.16596334])"
            ]
          },
          "metadata": {},
          "execution_count": 25
        }
      ]
    },
    {
      "cell_type": "code",
      "source": [
        "gradient3[486:506]"
      ],
      "metadata": {
        "colab": {
          "base_uri": "https://localhost:8080/"
        },
        "id": "2rJ-0KwdKNU6",
        "outputId": "646166f1-ad1e-4c69-fb3e-3ce598a453a9"
      },
      "execution_count": 26,
      "outputs": [
        {
          "output_type": "execute_result",
          "data": {
            "text/plain": [
              "array([       nan,        nan,        nan,        nan,        nan,\n",
              "              nan,        nan,        nan,        nan,        nan,\n",
              "              nan,        nan,        nan,        nan, 3.16226923,\n",
              "       1.30985829, 1.00508962, 0.84732975, 0.74651249, 0.67489888])"
            ]
          },
          "metadata": {},
          "execution_count": 26
        }
      ]
    }
  ]
}